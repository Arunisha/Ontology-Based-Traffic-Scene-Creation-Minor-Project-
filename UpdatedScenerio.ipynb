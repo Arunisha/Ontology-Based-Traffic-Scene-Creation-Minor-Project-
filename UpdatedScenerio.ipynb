{
 "cells": [
  {
   "cell_type": "code",
   "execution_count": 1,
   "metadata": {},
   "outputs": [
    {
     "name": "stderr",
     "output_type": "stream",
     "text": [
      "* Owlready * Creating new ontology owl <http://www.w3.org/2002/07/owl>.\n",
      "* Owlready * Creating new ontology 22-rdf-syntax-ns <http://www.w3.org/1999/02/22-rdf-syntax-ns>.\n",
      "* Owlready * Creating new ontology rdf-schema <http://www.w3.org/2000/01/rdf-schema>.\n",
      "* Owlready * Creating new ontology XMLSchema <http://www.w3.org/2001/XMLSchema>.\n",
      "* Owlready * Creating new ontology anonymous <http://anonymous>.\n",
      "* Owlready * Creating new ontology owlready_ontology <http://www.lesfleursdunormal.fr/static/_downloads/owlready_ontology.owl>.\n",
      "* Owlready *     ...loading ontology owlready_ontology from C:\\Users\\MUJ\\Anaconda3\\lib\\site-packages\\owlready\\owlready_ontology.owl...\n"
     ]
    }
   ],
   "source": [
    "from owlready import *"
   ]
  },
  {
   "cell_type": "code",
   "execution_count": 2,
   "metadata": {},
   "outputs": [
    {
     "name": "stderr",
     "output_type": "stream",
     "text": [
      "* Owlready * Creating new ontology trafficscene <https://swankiest-hump.000webhostapp.com/trafficscene.owl>.\n"
     ]
    }
   ],
   "source": [
    "onto = get_ontology(\"https://swankiest-hump.000webhostapp.com/trafficscene.owl\")"
   ]
  },
  {
   "cell_type": "markdown",
   "metadata": {},
   "source": [
    "# Creating Classes"
   ]
  },
  {
   "cell_type": "code",
   "execution_count": 3,
   "metadata": {
    "collapsed": true
   },
   "outputs": [],
   "source": [
    "class Position(Thing):\n",
    "    ontology = onto"
   ]
  },
  {
   "cell_type": "code",
   "execution_count": 4,
   "metadata": {
    "collapsed": true
   },
   "outputs": [],
   "source": [
    "class Road_element(Thing):\n",
    "    ontology = onto"
   ]
  },
  {
   "cell_type": "code",
   "execution_count": 5,
   "metadata": {
    "collapsed": true
   },
   "outputs": [],
   "source": [
    "class Scene(Thing):\n",
    "    ontology = onto"
   ]
  },
  {
   "cell_type": "code",
   "execution_count": 6,
   "metadata": {
    "collapsed": true
   },
   "outputs": [],
   "source": [
    "class Sign_board(Thing):\n",
    "    ontology = onto"
   ]
  },
  {
   "cell_type": "code",
   "execution_count": 7,
   "metadata": {
    "collapsed": true
   },
   "outputs": [],
   "source": [
    "class Vehicle(Thing):\n",
    "    ontology = onto"
   ]
  },
  {
   "cell_type": "code",
   "execution_count": 8,
   "metadata": {
    "collapsed": true
   },
   "outputs": [],
   "source": [
    "class Crash_barrier(Road_element):\n",
    "    ontology = onto"
   ]
  },
  {
   "cell_type": "code",
   "execution_count": 9,
   "metadata": {
    "collapsed": true
   },
   "outputs": [],
   "source": [
    "class Hardshoulder(Road_element):\n",
    "    ontology = onto"
   ]
  },
  {
   "cell_type": "code",
   "execution_count": 10,
   "metadata": {
    "collapsed": true
   },
   "outputs": [],
   "source": [
    "class Lane(Road_element):\n",
    "    ontology = onto"
   ]
  },
  {
   "cell_type": "code",
   "execution_count": 11,
   "metadata": {
    "collapsed": true
   },
   "outputs": [],
   "source": [
    "class No_lane_change(Sign_board):\n",
    "    ontology = onto"
   ]
  },
  {
   "cell_type": "code",
   "execution_count": 12,
   "metadata": {
    "collapsed": true
   },
   "outputs": [],
   "source": [
    "class Slippery_road_ahead(Sign_board):\n",
    "    ontology = onto"
   ]
  },
  {
   "cell_type": "code",
   "execution_count": 13,
   "metadata": {
    "collapsed": true
   },
   "outputs": [],
   "source": [
    "class Speed_limit(Sign_board):\n",
    "    ontology = onto"
   ]
  },
  {
   "cell_type": "markdown",
   "metadata": {},
   "source": [
    "# Object Properties"
   ]
  },
  {
   "cell_type": "code",
   "execution_count": 14,
   "metadata": {
    "collapsed": true
   },
   "outputs": [],
   "source": [
    "class approach_to(Property):\n",
    "    ontology = onto\n",
    "    domain = [Vehicle]\n",
    "    range = [Position]"
   ]
  },
  {
   "cell_type": "code",
   "execution_count": 15,
   "metadata": {
    "collapsed": true
   },
   "outputs": [],
   "source": [
    "class behind_of(Property):\n",
    "    ontology = onto\n",
    "    domain = [Position]\n",
    "    range = [Position]"
   ]
  },
  {
   "cell_type": "code",
   "execution_count": 16,
   "metadata": {
    "collapsed": true
   },
   "outputs": [],
   "source": [
    "class consists_of(Property):\n",
    "    ontology = onto\n",
    "    domain = [Scene]\n",
    "    range = [Thing]"
   ]
  },
  {
   "cell_type": "code",
   "execution_count": 17,
   "metadata": {
    "collapsed": true
   },
   "outputs": [],
   "source": [
    "class follow(Property):\n",
    "    ontology = onto\n",
    "    domain = [Vehicle]\n",
    "    range = [Vehicle]"
   ]
  },
  {
   "cell_type": "code",
   "execution_count": 18,
   "metadata": {
    "collapsed": true
   },
   "outputs": [],
   "source": [
    "class has_behind_position(Property):\n",
    "    ontology = onto\n",
    "    domain = [Position]\n",
    "    range = [Position]\n",
    "    inverse_property = behind_of"
   ]
  },
  {
   "cell_type": "code",
   "execution_count": 19,
   "metadata": {
    "collapsed": true
   },
   "outputs": [],
   "source": [
    "class infront_of(Property):\n",
    "    ontology = onto\n",
    "    domain = [Position]\n",
    "    range = [Position]"
   ]
  },
  {
   "cell_type": "code",
   "execution_count": 20,
   "metadata": {
    "collapsed": true
   },
   "outputs": [],
   "source": [
    "class has_infront_position(Property):\n",
    "    ontology = onto\n",
    "    domain = [Position]\n",
    "    range = [Position]\n",
    "    inverse_property = infront_of"
   ]
  },
  {
   "cell_type": "code",
   "execution_count": 21,
   "metadata": {
    "collapsed": true
   },
   "outputs": [],
   "source": [
    "class left_of(Property):\n",
    "    ontology = onto\n",
    "    domain = [Position]\n",
    "    range = [Position]"
   ]
  },
  {
   "cell_type": "code",
   "execution_count": 22,
   "metadata": {
    "collapsed": true
   },
   "outputs": [],
   "source": [
    "class has_left_position(Property):\n",
    "    ontology = onto\n",
    "    domain = [Position]\n",
    "    range = [Position]\n",
    "    inverse_property = left_of"
   ]
  },
  {
   "cell_type": "code",
   "execution_count": 23,
   "metadata": {
    "collapsed": true
   },
   "outputs": [],
   "source": [
    "class right_of(Property):\n",
    "    ontology = onto\n",
    "    domain = [Position]\n",
    "    range = [Position]"
   ]
  },
  {
   "cell_type": "code",
   "execution_count": 24,
   "metadata": {
    "collapsed": true
   },
   "outputs": [],
   "source": [
    "class has_right_position(Property):\n",
    "    ontology = onto\n",
    "    domain = [Position]\n",
    "    range = [Position]\n",
    "    inverse_property = right_of"
   ]
  },
  {
   "cell_type": "code",
   "execution_count": 25,
   "metadata": {
    "collapsed": true
   },
   "outputs": [],
   "source": [
    "class has_left_neighbour(Property):\n",
    "    ontology = onto\n",
    "    domain = [Road_element]\n",
    "    range = [Road_element]"
   ]
  },
  {
   "cell_type": "code",
   "execution_count": 26,
   "metadata": {
    "collapsed": true
   },
   "outputs": [],
   "source": [
    "class has_right_neighbour(Property):\n",
    "    ontology = onto\n",
    "    domain = [Road_element]\n",
    "    range = [Road_element]"
   ]
  },
  {
   "cell_type": "code",
   "execution_count": 27,
   "metadata": {
    "collapsed": true
   },
   "outputs": [],
   "source": [
    "class is_occupied_by(Property):\n",
    "    ontology = onto\n",
    "    domain = [Position]\n",
    "    range = [Vehicle]"
   ]
  },
  {
   "cell_type": "code",
   "execution_count": 28,
   "metadata": {
    "collapsed": true
   },
   "outputs": [],
   "source": [
    "class located_on(Property):\n",
    "    ontology = onto\n",
    "    domain = [Vehicle]\n",
    "    range = [Position]\n",
    "    inverse_property = is_occupied_by"
   ]
  },
  {
   "cell_type": "code",
   "execution_count": 29,
   "metadata": {
    "collapsed": true
   },
   "outputs": [],
   "source": [
    "class lane_change_by_left_to(Property):\n",
    "    ontology = onto\n",
    "    domain = [Vehicle]\n",
    "    range = [Position]"
   ]
  },
  {
   "cell_type": "code",
   "execution_count": 30,
   "metadata": {
    "collapsed": true
   },
   "outputs": [],
   "source": [
    "class lane_change_by_right_to(Property):\n",
    "    ontology = onto\n",
    "    domain = [Vehicle]\n",
    "    range = [Position]"
   ]
  },
  {
   "cell_type": "code",
   "execution_count": 31,
   "metadata": {
    "collapsed": true
   },
   "outputs": [],
   "source": [
    "class move_back_to(Property):\n",
    "    ontology = onto\n",
    "    domain = [Vehicle]\n",
    "    range = [Position]"
   ]
  },
  {
   "cell_type": "code",
   "execution_count": 32,
   "metadata": {
    "collapsed": true
   },
   "outputs": [],
   "source": [
    "class offers_position(Property):\n",
    "    ontology = onto\n",
    "    domain = [Lane]\n",
    "    range = [Position]"
   ]
  },
  {
   "cell_type": "code",
   "execution_count": 33,
   "metadata": {
    "collapsed": true
   },
   "outputs": [],
   "source": [
    "class safe_stop_to(Property):\n",
    "    ontology = onto\n",
    "    domain = [Vehicle]\n",
    "    range = [Hardshoulder]"
   ]
  },
  {
   "cell_type": "code",
   "execution_count": 34,
   "metadata": {
    "collapsed": true
   },
   "outputs": [],
   "source": [
    "class turn_left_to(Property):\n",
    "    ontology = onto\n",
    "    domain = [Vehicle]\n",
    "    range = [Position]"
   ]
  },
  {
   "cell_type": "code",
   "execution_count": 35,
   "metadata": {
    "collapsed": true
   },
   "outputs": [],
   "source": [
    "class turn_right_to(Property):\n",
    "    ontology = onto\n",
    "    domain = [Vehicle]\n",
    "    range = [Position]"
   ]
  },
  {
   "cell_type": "markdown",
   "metadata": {},
   "source": [
    "# Data Properties"
   ]
  },
  {
   "cell_type": "code",
   "execution_count": 36,
   "metadata": {
    "collapsed": true
   },
   "outputs": [],
   "source": [
    "class cannot_change_lane(FunctionalProperty):\n",
    "    ontology = onto\n",
    "    domain = [Vehicle]\n",
    "    range = [bool]"
   ]
  },
  {
   "cell_type": "code",
   "execution_count": 37,
   "metadata": {
    "collapsed": true
   },
   "outputs": [],
   "source": [
    "class change_speed_to(FunctionalProperty):\n",
    "    ontology = onto\n",
    "    domain = [Vehicle]\n",
    "    range = [int]"
   ]
  },
  {
   "cell_type": "code",
   "execution_count": 38,
   "metadata": {
    "collapsed": true
   },
   "outputs": [],
   "source": [
    "class has_color(FunctionalProperty):\n",
    "    ontology = onto\n",
    "    domain = [Vehicle]\n",
    "    range = [str]"
   ]
  },
  {
   "cell_type": "code",
   "execution_count": 39,
   "metadata": {
    "collapsed": true
   },
   "outputs": [],
   "source": [
    "class has_height(FunctionalProperty):\n",
    "    ontology = onto\n",
    "    domain = [Crash_barrier]\n",
    "    range = [float]"
   ]
  },
  {
   "cell_type": "code",
   "execution_count": 40,
   "metadata": {
    "collapsed": true
   },
   "outputs": [],
   "source": [
    "class has_width(FunctionalProperty):\n",
    "    ontology = onto\n",
    "    domain = [Road_element]\n",
    "    range = [float]"
   ]
  },
  {
   "cell_type": "code",
   "execution_count": 41,
   "metadata": {
    "collapsed": true
   },
   "outputs": [],
   "source": [
    "class has_speed(FunctionalProperty):\n",
    "    ontology = onto\n",
    "    domain = [Vehicle]\n",
    "    range = [int]"
   ]
  },
  {
   "cell_type": "code",
   "execution_count": 42,
   "metadata": {
    "collapsed": true
   },
   "outputs": [],
   "source": [
    "class has_speed_limit(FunctionalProperty):\n",
    "    ontology = onto\n",
    "    domain = [Speed_limit]\n",
    "    range = [int]"
   ]
  },
  {
   "cell_type": "code",
   "execution_count": 43,
   "metadata": {
    "collapsed": true
   },
   "outputs": [],
   "source": [
    "class is_empty(FunctionalProperty):\n",
    "    ontology = onto\n",
    "    domain = [Position]\n",
    "    range = [bool]"
   ]
  },
  {
   "cell_type": "code",
   "execution_count": 44,
   "metadata": {
    "collapsed": true
   },
   "outputs": [],
   "source": [
    "class is_raining(FunctionalProperty):\n",
    "    ontology = onto\n",
    "    domain = [Scene]\n",
    "    range = [bool]"
   ]
  },
  {
   "cell_type": "markdown",
   "metadata": {},
   "source": [
    "# SCENE 1"
   ]
  },
  {
   "cell_type": "code",
   "execution_count": 45,
   "metadata": {
    "collapsed": true
   },
   "outputs": [],
   "source": [
    "Crash_barrier2 = Crash_barrier()\n",
    "Crash_barrier1 = Crash_barrier()\n",
    "Hardshoulder1 = Hardshoulder()\n",
    "Lane1 = Lane()\n",
    "Lane2 = Lane()\n",
    "Position1 = Position()\n",
    "Position2 = Position()\n",
    "Position3 = Position()\n",
    "Position4 = Position()\n",
    "Vehicle1 = Vehicle()\n",
    "Vehicle2 = Vehicle()\n",
    "speed_limit_sign_board = Speed_limit(has_speed_limit = 20)\n",
    "no_lane_change_sign_board=No_lane_change()\n",
    "Scene1 = Scene(consists_of = [Vehicle1,Vehicle2,Hardshoulder1,Lane1,Lane2,Crash_barrier1,Crash_barrier2,speed_limit_sign_board,no_lane_change_sign_board])"
   ]
  },
  {
   "cell_type": "markdown",
   "metadata": {},
   "source": [
    "## Adding Properties to instances"
   ]
  },
  {
   "cell_type": "code",
   "execution_count": 46,
   "metadata": {
    "collapsed": true
   },
   "outputs": [],
   "source": [
    "Crash_barrier1.has_right_neighbour=[Lane1]\n",
    "Crash_barrier1.has_height =1.0\n",
    "Crash_barrier1.has_width=0.5"
   ]
  },
  {
   "cell_type": "code",
   "execution_count": 47,
   "metadata": {
    "collapsed": true
   },
   "outputs": [],
   "source": [
    "Crash_barrier2.has_left_neighbour=[Hardshoulder1]\n",
    "Crash_barrier2.has_height =1.0\n",
    "Crash_barrier2.has_width=0.5"
   ]
  },
  {
   "cell_type": "code",
   "execution_count": 48,
   "metadata": {
    "collapsed": true
   },
   "outputs": [],
   "source": [
    "Hardshoulder1.has_left_neighbour=[Lane2]\n",
    "Hardshoulder1.has_right_neighbour=[Crash_barrier1]\n",
    "Hardshoulder1.has_width=0.5"
   ]
  },
  {
   "cell_type": "code",
   "execution_count": 49,
   "metadata": {
    "collapsed": true
   },
   "outputs": [],
   "source": [
    "Lane1.has_left_neighbour=[Crash_barrier2]\n",
    "Lane1.has_right_neighbour=[Lane2]\n",
    "Lane1.offers_position = [Position1,Position2]"
   ]
  },
  {
   "cell_type": "code",
   "execution_count": 50,
   "metadata": {
    "collapsed": true
   },
   "outputs": [],
   "source": [
    "Lane2.has_left_neighbour=[Lane1]\n",
    "Lane2.has_right_neighbour=[Hardshoulder1]\n",
    "Lane2.offers_position = [Position3,Position4]"
   ]
  },
  {
   "cell_type": "code",
   "execution_count": 51,
   "metadata": {
    "collapsed": true
   },
   "outputs": [],
   "source": [
    "Position1.behind_of = [Position2]\n",
    "Position1.left_of = [Position3]"
   ]
  },
  {
   "cell_type": "code",
   "execution_count": 52,
   "metadata": {
    "collapsed": true
   },
   "outputs": [],
   "source": [
    "Position2.infront_of = [Position1]\n",
    "Position2.left_of = [Position4]"
   ]
  },
  {
   "cell_type": "code",
   "execution_count": 53,
   "metadata": {
    "collapsed": true
   },
   "outputs": [],
   "source": [
    "Position3.behind_of = [Position4]\n",
    "Position3.right_of = [Position1]\n",
    "Position3.is_occupied_by = [Vehicle2]"
   ]
  },
  {
   "cell_type": "code",
   "execution_count": 54,
   "metadata": {
    "collapsed": true
   },
   "outputs": [],
   "source": [
    "Position4.infront_of = [Position3]\n",
    "Position4.right_of = [Position2]\n",
    "Position4.is_occupied_by = [Vehicle1]"
   ]
  },
  {
   "cell_type": "code",
   "execution_count": 55,
   "metadata": {
    "collapsed": true
   },
   "outputs": [],
   "source": [
    "Vehicle1.located_on = [Position4]\n",
    "Vehicle1.has_color = 'Red'\n",
    "Vehicle1.has_speed = 50"
   ]
  },
  {
   "cell_type": "code",
   "execution_count": 56,
   "metadata": {
    "collapsed": true
   },
   "outputs": [],
   "source": [
    "Vehicle2.located_on = [Position3]\n",
    "Vehicle2.has_color = 'Blue'\n",
    "Vehicle2.has_speed = 120"
   ]
  },
  {
   "cell_type": "markdown",
   "metadata": {},
   "source": [
    "## Rules\n",
    "### Is Position Empty"
   ]
  },
  {
   "cell_type": "code",
   "execution_count": 57,
   "metadata": {
    "collapsed": true
   },
   "outputs": [],
   "source": [
    "for p in onto.Position.instances():\n",
    "    if len(p.is_occupied_by) == 0:\n",
    "        p.is_empty =True\n",
    "    else:\n",
    "        p.is_empty = False"
   ]
  },
  {
   "cell_type": "markdown",
   "metadata": {},
   "source": [
    "### Speed Limit Rule"
   ]
  },
  {
   "cell_type": "code",
   "execution_count": 58,
   "metadata": {
    "collapsed": true
   },
   "outputs": [],
   "source": [
    "for v in onto.Vehicle.instances():\n",
    "    for s in onto.Scene.instances():\n",
    "        if v in s.consists_of:\n",
    "            for sb in onto.Speed_limit.instances():\n",
    "                if sb in s.consists_of:\n",
    "                    if v.has_speed > sb.has_speed_limit:\n",
    "                        v.change_speed_to = sb.has_speed_limit\n",
    "                    else:\n",
    "                        v.change_speed_to = v.has_speed"
   ]
  },
  {
   "cell_type": "markdown",
   "metadata": {},
   "source": [
    "### Slippery road Rule"
   ]
  },
  {
   "cell_type": "code",
   "execution_count": 59,
   "metadata": {
    "collapsed": true
   },
   "outputs": [],
   "source": [
    "for v in onto.Vehicle.instances():\n",
    "    for s in onto.Scene.instances():\n",
    "        if v in s.consists_of:\n",
    "            for sb in onto.Slippery_road_ahead.instances():\n",
    "                if sb in s.consists_of:\n",
    "                    if v.has_speed>40:\n",
    "                        v.change_speed_to=40\n",
    "                    else:\n",
    "                        v.change_speed_to=v.has_speed"
   ]
  },
  {
   "cell_type": "markdown",
   "metadata": {},
   "source": [
    "### Raining Conditions"
   ]
  },
  {
   "cell_type": "code",
   "execution_count": 60,
   "metadata": {
    "collapsed": true
   },
   "outputs": [],
   "source": [
    "for v in onto.Vehicle.instances():\n",
    "    for s in onto.Scene.instances():\n",
    "        if v in s.consists_of and s.is_raining == True:\n",
    "            if v.has_speed>50:\n",
    "                v.change_speed_to = 50\n",
    "            else:\n",
    "                v.change_speed_to = v.has_speed"
   ]
  },
  {
   "cell_type": "markdown",
   "metadata": {},
   "source": [
    "### No Lane Change Rule"
   ]
  },
  {
   "cell_type": "code",
   "execution_count": 61,
   "metadata": {
    "collapsed": true
   },
   "outputs": [],
   "source": [
    "for v in onto.Vehicle.instances():\n",
    "    for s in onto.Scene.instances():\n",
    "        if v in s.consists_of:\n",
    "            for sb in onto.No_lane_change.instances():\n",
    "                if sb in s.consists_of:\n",
    "                    v.cannot_change_lane=True"
   ]
  },
  {
   "cell_type": "markdown",
   "metadata": {},
   "source": [
    "## MANEUVER\n",
    "### Approach Maneuver"
   ]
  },
  {
   "cell_type": "code",
   "execution_count": 62,
   "metadata": {
    "collapsed": true
   },
   "outputs": [],
   "source": [
    "for v in onto.Vehicle.instances():\n",
    "    p = v.located_on[0]\n",
    "    if len(p.has_infront_position)!=0:\n",
    "        fp= p.has_infront_position[0]\n",
    "        if p.is_empty== True:\n",
    "            v.approach_to.append(fp)                    "
   ]
  },
  {
   "cell_type": "markdown",
   "metadata": {},
   "source": [
    "### Lane Change to Left Maneuver"
   ]
  },
  {
   "cell_type": "code",
   "execution_count": 63,
   "metadata": {
    "collapsed": true
   },
   "outputs": [],
   "source": [
    "for v in onto.Vehicle.instances():\n",
    "        p = v.located_on[0]\n",
    "        if v.cannot_change_lane==False and len(p.has_left_position)!=0:\n",
    "            lp = p.has_left_position[0]\n",
    "            if lp.is_empty== True:\n",
    "                if len(lp.has_infront_position)!=0:\n",
    "                    fp = lp.has_infront_position[0]\n",
    "                    if fp.is_empty== True:\n",
    "                        v.lane_change_by_left_to.append(fp)"
   ]
  },
  {
   "cell_type": "markdown",
   "metadata": {},
   "source": [
    "### Lane Change to Right Maneuver"
   ]
  },
  {
   "cell_type": "code",
   "execution_count": 64,
   "metadata": {
    "collapsed": true
   },
   "outputs": [],
   "source": [
    "for v in onto.Vehicle.instances():\n",
    "        p = v.located_on[0]\n",
    "        if v.cannot_change_lane==False and len(p.has_right_position)!=0:\n",
    "            rp = p.has_right_position[0]\n",
    "            if rp.is_empty== True:\n",
    "                if len(rp.has_infront_position)!=0:\n",
    "                    fp = rp.has_infront_position[0]\n",
    "                    if fp.is_empty== True:\n",
    "                        v.lane_change_by_right_to.append(fp)"
   ]
  },
  {
   "cell_type": "markdown",
   "metadata": {},
   "source": [
    "### Safe Stop Maneuver"
   ]
  },
  {
   "cell_type": "code",
   "execution_count": 65,
   "metadata": {
    "collapsed": true
   },
   "outputs": [],
   "source": [
    "for v in onto.Vehicle.instances():\n",
    "    p = v.located_on[0]\n",
    "    for l in onto.Lane.instances():\n",
    "        if p in l.offers_position:\n",
    "            if len(l.has_right_neighbour)!=0:\n",
    "                rn = l.has_right_neighbour[0]\n",
    "                if isinstance(rn,Hardshoulder):\n",
    "                    v.safe_stop_to.append(rn)"
   ]
  },
  {
   "cell_type": "markdown",
   "metadata": {},
   "source": [
    "### Turn Right Maneuver"
   ]
  },
  {
   "cell_type": "code",
   "execution_count": 66,
   "metadata": {
    "collapsed": true
   },
   "outputs": [],
   "source": [
    "for v in onto.Vehicle.instances():\n",
    "    p = v.located_on[0]\n",
    "    if v.cannot_change_lane == False and len(p.has_right_position)!=0:\n",
    "        rp = p.has_right_position[0]\n",
    "        if rp.is_empty == True:\n",
    "            v.turn_right_to.append(rp)"
   ]
  },
  {
   "cell_type": "markdown",
   "metadata": {},
   "source": [
    "### Turn Left Maneuver"
   ]
  },
  {
   "cell_type": "code",
   "execution_count": 67,
   "metadata": {
    "collapsed": true
   },
   "outputs": [],
   "source": [
    "for v in onto.Vehicle.instances():\n",
    "    p = v.located_on[0]\n",
    "    if v.cannot_change_lane == False and len(p.has_left_position)!=0:\n",
    "        lp = p.has_left_position[0]\n",
    "        if lp.is_empty == True:\n",
    "            v.turn_left_to.append(lp)"
   ]
  },
  {
   "cell_type": "markdown",
   "metadata": {},
   "source": [
    "### Follow Maneuver"
   ]
  },
  {
   "cell_type": "code",
   "execution_count": 68,
   "metadata": {
    "collapsed": true
   },
   "outputs": [],
   "source": [
    "for v in onto.Vehicle.instances():\n",
    "    p = v.located_on[0]\n",
    "    if len(p.has_infront_position)!=0:\n",
    "        fp = p.has_infront_position[0]\n",
    "        if fp.is_empty == False:\n",
    "            fv = fp.is_occupied_by[0]\n",
    "            v.follow.append(fv)"
   ]
  },
  {
   "cell_type": "code",
   "execution_count": 69,
   "metadata": {},
   "outputs": [
    {
     "name": "stderr",
     "output_type": "stream",
     "text": [
      "* Owlready * Running HermiT...\n",
      "    java -Xmx2000M -cp C:\\Users\\MUJ\\Anaconda3\\lib\\site-packages\\owlready\\hermit;C:\\Users\\MUJ\\Anaconda3\\lib\\site-packages\\owlready\\hermit\\HermiT.jar org.semanticweb.HermiT.cli.CommandLine -c -O -D -I file:///C:/Users/MUJ/AppData/Local/Temp/tmplyzcn7bo\n"
     ]
    },
    {
     "ename": "CalledProcessError",
     "evalue": "Command '['java', '-Xmx2000M', '-cp', 'C:\\\\Users\\\\MUJ\\\\Anaconda3\\\\lib\\\\site-packages\\\\owlready\\\\hermit;C:\\\\Users\\\\MUJ\\\\Anaconda3\\\\lib\\\\site-packages\\\\owlready\\\\hermit\\\\HermiT.jar', 'org.semanticweb.HermiT.cli.CommandLine', '-c', '-O', '-D', '-I', 'file:///C:/Users/MUJ/AppData/Local/Temp/tmplyzcn7bo']' returned non-zero exit status 1.",
     "output_type": "error",
     "traceback": [
      "\u001b[1;31m---------------------------------------------------------------------------\u001b[0m",
      "\u001b[1;31mCalledProcessError\u001b[0m                        Traceback (most recent call last)",
      "\u001b[1;32m<ipython-input-69-90f5345396fa>\u001b[0m in \u001b[0;36m<module>\u001b[1;34m()\u001b[0m\n\u001b[1;32m----> 1\u001b[1;33m \u001b[0monto\u001b[0m\u001b[1;33m.\u001b[0m\u001b[0msync_reasoner\u001b[0m\u001b[1;33m(\u001b[0m\u001b[1;33m)\u001b[0m\u001b[1;33m\u001b[0m\u001b[0m\n\u001b[0m",
      "\u001b[1;32m~\\Anaconda3\\lib\\site-packages\\owlready\\__init__.py\u001b[0m in \u001b[0;36msync_reasoner\u001b[1;34m(self, rules, debug, keep_tmp_file)\u001b[0m\n\u001b[0;32m    340\u001b[0m       \u001b[0mprint\u001b[0m\u001b[1;33m(\u001b[0m\u001b[1;34m\"    %s\"\u001b[0m \u001b[1;33m%\u001b[0m \u001b[1;34m\" \"\u001b[0m\u001b[1;33m.\u001b[0m\u001b[0mjoin\u001b[0m\u001b[1;33m(\u001b[0m\u001b[0mcommand\u001b[0m\u001b[1;33m)\u001b[0m\u001b[1;33m,\u001b[0m \u001b[0mfile\u001b[0m \u001b[1;33m=\u001b[0m \u001b[0msys\u001b[0m\u001b[1;33m.\u001b[0m\u001b[0mstderr\u001b[0m\u001b[1;33m)\u001b[0m\u001b[1;33m\u001b[0m\u001b[0m\n\u001b[0;32m    341\u001b[0m       \u001b[0mt0\u001b[0m \u001b[1;33m=\u001b[0m \u001b[0mtime\u001b[0m\u001b[1;33m.\u001b[0m\u001b[0mtime\u001b[0m\u001b[1;33m(\u001b[0m\u001b[1;33m)\u001b[0m\u001b[1;33m\u001b[0m\u001b[0m\n\u001b[1;32m--> 342\u001b[1;33m     \u001b[0moutput\u001b[0m \u001b[1;33m=\u001b[0m \u001b[0msubprocess\u001b[0m\u001b[1;33m.\u001b[0m\u001b[0mcheck_output\u001b[0m\u001b[1;33m(\u001b[0m\u001b[0mcommand\u001b[0m\u001b[1;33m)\u001b[0m\u001b[1;33m\u001b[0m\u001b[0m\n\u001b[0m\u001b[0;32m    343\u001b[0m     \u001b[0moutput\u001b[0m \u001b[1;33m=\u001b[0m \u001b[0moutput\u001b[0m\u001b[1;33m.\u001b[0m\u001b[0mdecode\u001b[0m\u001b[1;33m(\u001b[0m\u001b[1;34m\"utf8\"\u001b[0m\u001b[1;33m)\u001b[0m\u001b[1;33m.\u001b[0m\u001b[0mreplace\u001b[0m\u001b[1;33m(\u001b[0m\u001b[1;34m\"\\r\"\u001b[0m\u001b[1;33m,\u001b[0m\u001b[1;34m\"\"\u001b[0m\u001b[1;33m)\u001b[0m\u001b[1;33m\u001b[0m\u001b[0m\n\u001b[0;32m    344\u001b[0m     \u001b[1;32mif\u001b[0m \u001b[0mdebug\u001b[0m\u001b[1;33m:\u001b[0m\u001b[1;33m\u001b[0m\u001b[0m\n",
      "\u001b[1;32m~\\Anaconda3\\lib\\subprocess.py\u001b[0m in \u001b[0;36mcheck_output\u001b[1;34m(timeout, *popenargs, **kwargs)\u001b[0m\n\u001b[0;32m    334\u001b[0m \u001b[1;33m\u001b[0m\u001b[0m\n\u001b[0;32m    335\u001b[0m     return run(*popenargs, stdout=PIPE, timeout=timeout, check=True,\n\u001b[1;32m--> 336\u001b[1;33m                **kwargs).stdout\n\u001b[0m\u001b[0;32m    337\u001b[0m \u001b[1;33m\u001b[0m\u001b[0m\n\u001b[0;32m    338\u001b[0m \u001b[1;33m\u001b[0m\u001b[0m\n",
      "\u001b[1;32m~\\Anaconda3\\lib\\subprocess.py\u001b[0m in \u001b[0;36mrun\u001b[1;34m(input, timeout, check, *popenargs, **kwargs)\u001b[0m\n\u001b[0;32m    416\u001b[0m         \u001b[1;32mif\u001b[0m \u001b[0mcheck\u001b[0m \u001b[1;32mand\u001b[0m \u001b[0mretcode\u001b[0m\u001b[1;33m:\u001b[0m\u001b[1;33m\u001b[0m\u001b[0m\n\u001b[0;32m    417\u001b[0m             raise CalledProcessError(retcode, process.args,\n\u001b[1;32m--> 418\u001b[1;33m                                      output=stdout, stderr=stderr)\n\u001b[0m\u001b[0;32m    419\u001b[0m     \u001b[1;32mreturn\u001b[0m \u001b[0mCompletedProcess\u001b[0m\u001b[1;33m(\u001b[0m\u001b[0mprocess\u001b[0m\u001b[1;33m.\u001b[0m\u001b[0margs\u001b[0m\u001b[1;33m,\u001b[0m \u001b[0mretcode\u001b[0m\u001b[1;33m,\u001b[0m \u001b[0mstdout\u001b[0m\u001b[1;33m,\u001b[0m \u001b[0mstderr\u001b[0m\u001b[1;33m)\u001b[0m\u001b[1;33m\u001b[0m\u001b[0m\n\u001b[0;32m    420\u001b[0m \u001b[1;33m\u001b[0m\u001b[0m\n",
      "\u001b[1;31mCalledProcessError\u001b[0m: Command '['java', '-Xmx2000M', '-cp', 'C:\\\\Users\\\\MUJ\\\\Anaconda3\\\\lib\\\\site-packages\\\\owlready\\\\hermit;C:\\\\Users\\\\MUJ\\\\Anaconda3\\\\lib\\\\site-packages\\\\owlready\\\\hermit\\\\HermiT.jar', 'org.semanticweb.HermiT.cli.CommandLine', '-c', '-O', '-D', '-I', 'file:///C:/Users/MUJ/AppData/Local/Temp/tmplyzcn7bo']' returned non-zero exit status 1."
     ]
    }
   ],
   "source": [
    "onto.sync_reasoner()"
   ]
  },
  {
   "cell_type": "markdown",
   "metadata": {},
   "source": [
    "# Visualising The Scene"
   ]
  },
  {
   "cell_type": "code",
   "execution_count": null,
   "metadata": {
    "collapsed": true
   },
   "outputs": [],
   "source": [
    "import editobj3\n",
    "from owlready.editor import *\n",
    "from owlready.instance_editor import *\n",
    "for ontology in onto.indirectly_imported_ontologies(): \n",
    "    configure_editobj_from_ontology(ontology)\n",
    "    editobj3.GUI = 'Qt'\n",
    "    if editobj3.GUI == 'Qt':\n",
    "        import sys, PyQt5.QtWidgets as qtwidgets\n",
    "        if qtwidgets.QApplication.startingUp():\n",
    "            qtwidgets.app = qtwidgets.QApplication(sys.argv)\n",
    "            editor = OntologyInstanceEditor()\n",
    "            editor.set_ontology(onto,edited_classes = [Scene,Position,Road_element,Vehicle,Sign_board])\n",
    "            editor.main()"
   ]
  },
  {
   "cell_type": "code",
   "execution_count": null,
   "metadata": {
    "collapsed": true
   },
   "outputs": [],
   "source": []
  },
  {
   "cell_type": "code",
   "execution_count": null,
   "metadata": {
    "collapsed": true
   },
   "outputs": [],
   "source": []
  },
  {
   "cell_type": "code",
   "execution_count": null,
   "metadata": {
    "collapsed": true
   },
   "outputs": [],
   "source": []
  },
  {
   "cell_type": "code",
   "execution_count": null,
   "metadata": {
    "collapsed": true
   },
   "outputs": [],
   "source": []
  },
  {
   "cell_type": "code",
   "execution_count": null,
   "metadata": {
    "collapsed": true
   },
   "outputs": [],
   "source": []
  },
  {
   "cell_type": "code",
   "execution_count": null,
   "metadata": {
    "collapsed": true
   },
   "outputs": [],
   "source": []
  },
  {
   "cell_type": "code",
   "execution_count": null,
   "metadata": {
    "collapsed": true
   },
   "outputs": [],
   "source": []
  },
  {
   "cell_type": "code",
   "execution_count": null,
   "metadata": {
    "collapsed": true
   },
   "outputs": [],
   "source": []
  }
 ],
 "metadata": {
  "kernelspec": {
   "display_name": "Python 3",
   "language": "python",
   "name": "python3"
  },
  "language_info": {
   "codemirror_mode": {
    "name": "ipython",
    "version": 3
   },
   "file_extension": ".py",
   "mimetype": "text/x-python",
   "name": "python",
   "nbconvert_exporter": "python",
   "pygments_lexer": "ipython3",
   "version": "3.6.3"
  }
 },
 "nbformat": 4,
 "nbformat_minor": 2
}
